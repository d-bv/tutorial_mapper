{
 "cells": [
  {
   "cell_type": "markdown",
   "metadata": {},
   "source": [
    "# How to generate 3D santa point cloud\n",
    "\n",
    "1. download mesh data at https://free3d.com/3d-model/santa-clau-77751.html\n",
    "2. download and install CloudCompare (https://www.cloudcompare.org)\n",
    "3. Launch CloudCompare and load the downloaded \"Santa Claus.obj\" file  \n",
    "4. Select all the meshes (press alt and use the mouse)\n",
    "5. Go to Edit>Mesh>Sample Points. Select density of 1000.\n",
    "6. Save as .txt in a separate directory into \"path\" (this generates many .txt files)\n",
    "7. run the following cells\n",
    "\n"
   ]
  },
  {
   "cell_type": "code",
   "execution_count": 1,
   "metadata": {},
   "outputs": [],
   "source": [
    "import pandas as pd\n",
    "import numpy as np\n",
    "import os"
   ]
  },
  {
   "cell_type": "code",
   "execution_count": 2,
   "metadata": {},
   "outputs": [],
   "source": [
    "path = \"data/Santa_Claus/point_cloud/\"\n",
    "\n",
    "# load Santa Claus point cloud (the so called \"Santa Cloud\")\n",
    "files = [f for f in os.listdir(path) if \".txt\" in f]\n",
    "\n",
    "df = pd.concat([pd.read_csv(path+f,sep = \" \", header = None) for f in files])\n",
    "df.columns = \"x y z r g b light_x light_y light_z\".split()\n",
    "df.index = np.arange(len(df))"
   ]
  },
  {
   "cell_type": "code",
   "execution_count": 3,
   "metadata": {},
   "outputs": [],
   "source": [
    "# select a sample\n",
    "np.random.seed(95)\n",
    "\n",
    "sample_size = 5000\n",
    "df_sample = df.loc[np.random.choice(len(df), sample_size, replace = False),:]\n",
    "df_sample.index = np.arange(len(df_sample))"
   ]
  },
  {
   "cell_type": "code",
   "execution_count": 4,
   "metadata": {},
   "outputs": [],
   "source": [
    "# store color\n",
    "colors = {\n",
    "    204 : \"red\",\n",
    "    255 : \"white\",\n",
    "    86 : \"black\",\n",
    "    165 : \"orange\",\n",
    "    75 : \"black\",\n",
    "    127 : \"orange\",\n",
    "}\n",
    "\n",
    "df_sample[\"color\"] = [colors[a] for a in df_sample.r]"
   ]
  },
  {
   "cell_type": "code",
   "execution_count": 5,
   "metadata": {},
   "outputs": [],
   "source": [
    "# store data as a csv \n",
    "df_sample[\"z\"] = -df_sample[\"z\"]\n",
    "df_sample[[\"x\",\"y\",\"z\",\"color\"]].to_csv(\"data.csv\",index = False)"
   ]
  },
  {
   "cell_type": "code",
   "execution_count": null,
   "metadata": {},
   "outputs": [],
   "source": []
  }
 ],
 "metadata": {
  "kernelspec": {
   "display_name": "Python 3",
   "language": "python",
   "name": "python3"
  },
  "language_info": {
   "codemirror_mode": {
    "name": "ipython",
    "version": 3
   },
   "file_extension": ".py",
   "mimetype": "text/x-python",
   "name": "python",
   "nbconvert_exporter": "python",
   "pygments_lexer": "ipython3",
   "version": "3.7.4"
  }
 },
 "nbformat": 4,
 "nbformat_minor": 4
}
